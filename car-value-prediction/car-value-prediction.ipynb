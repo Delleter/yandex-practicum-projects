{
 "cells": [
  {
   "cell_type": "markdown",
   "metadata": {},
   "source": [
    "# Предсказание стоимости автомобиля"
   ]
  },
  {
   "cell_type": "markdown",
   "metadata": {},
   "source": [
    "Для сервиса по продаже автомобилей необходимо построить модель для определения рыночной стоимости автомобиля на основе исторических данных: технические характеристики, комплектации и цены автомобилей.\n",
    "\n",
    "Требования к модели:\n",
    "- качество предсказания;\n",
    "- скорость предсказания;\n",
    "- время обучения."
   ]
  },
  {
   "cell_type": "markdown",
   "metadata": {},
   "source": [
    "## План работы\n",
    "\n",
    "### Шаг 1. Загрузка и подготовка данных\n",
    "- [1. Импорт библиотек, изучение данных](#section1)\n",
    "- [2. Обработка выбросов](#section2)\n",
    "- [3. Обработка пропусков](#section9)\n",
    "\n",
    "### Шаг 2. Обучение моделей\n",
    "- [1. Подготовка выборок](#section3)\n",
    "- [2. Обучение LGBMRegressor](#section4)\n",
    "- [3. Обучение CatBoostRegressor](#section5)\n",
    "- [4. Другой алгоритм обработки пропусков](#section6)\n",
    "\n",
    "### Шаг 3. Анализ результатов\n",
    "- [1. Анализ результатов работы различных моделей](#section7)"
   ]
  },
  {
   "cell_type": "markdown",
   "metadata": {},
   "source": [
    "### Шаг 1. Загрузка и подготовка данных"
   ]
  },
  {
   "cell_type": "markdown",
   "metadata": {},
   "source": [
    "<a id='section1'></a>"
   ]
  },
  {
   "cell_type": "markdown",
   "metadata": {},
   "source": [
    "#### 1. Импорт библиотек, загрузка и изучение данных"
   ]
  },
  {
   "cell_type": "markdown",
   "metadata": {},
   "source": [
    "Для начала импортируем все библиотеки, потребующиеся в данной работе."
   ]
  },
  {
   "cell_type": "code",
   "execution_count": 1,
   "metadata": {},
   "outputs": [],
   "source": [
    "import pandas as pd\n",
    "import numpy as np\n",
    "\n",
    "import matplotlib.pyplot as plt\n",
    "import seaborn as sns\n",
    "\n",
    "from sklearn.model_selection import train_test_split\n",
    "from sklearn.model_selection import KFold\n",
    "from sklearn.metrics import make_scorer\n",
    "from sklearn.metrics import mean_squared_error\n",
    "from sklearn.model_selection import GridSearchCV\n",
    "from sklearn.impute import KNNImputer\n",
    "from sklearn.model_selection import cross_val_score\n",
    "\n",
    "from  lightgbm import LGBMRegressor\n",
    "from catboost import CatBoostRegressor\n",
    "\n",
    "import time"
   ]
  },
  {
   "cell_type": "markdown",
   "metadata": {},
   "source": [
    "Далее прочитаем файл с данными и изучим общую информацию."
   ]
  },
  {
   "cell_type": "code",
   "execution_count": 2,
   "metadata": {},
   "outputs": [
    {
     "name": "stdout",
     "output_type": "stream",
     "text": [
      "<class 'pandas.core.frame.DataFrame'>\n",
      "RangeIndex: 354369 entries, 0 to 354368\n",
      "Data columns (total 16 columns):\n",
      " #   Column             Non-Null Count   Dtype \n",
      "---  ------             --------------   ----- \n",
      " 0   DateCrawled        354369 non-null  object\n",
      " 1   Price              354369 non-null  int64 \n",
      " 2   VehicleType        316879 non-null  object\n",
      " 3   RegistrationYear   354369 non-null  int64 \n",
      " 4   Gearbox            334536 non-null  object\n",
      " 5   Power              354369 non-null  int64 \n",
      " 6   Model              334664 non-null  object\n",
      " 7   Kilometer          354369 non-null  int64 \n",
      " 8   RegistrationMonth  354369 non-null  int64 \n",
      " 9   FuelType           321474 non-null  object\n",
      " 10  Brand              354369 non-null  object\n",
      " 11  NotRepaired        283215 non-null  object\n",
      " 12  DateCreated        354369 non-null  object\n",
      " 13  NumberOfPictures   354369 non-null  int64 \n",
      " 14  PostalCode         354369 non-null  int64 \n",
      " 15  LastSeen           354369 non-null  object\n",
      "dtypes: int64(7), object(9)\n",
      "memory usage: 43.3+ MB\n"
     ]
    },
    {
     "data": {
      "text/html": [
       "<div>\n",
       "<style scoped>\n",
       "    .dataframe tbody tr th:only-of-type {\n",
       "        vertical-align: middle;\n",
       "    }\n",
       "\n",
       "    .dataframe tbody tr th {\n",
       "        vertical-align: top;\n",
       "    }\n",
       "\n",
       "    .dataframe thead th {\n",
       "        text-align: right;\n",
       "    }\n",
       "</style>\n",
       "<table border=\"1\" class=\"dataframe\">\n",
       "  <thead>\n",
       "    <tr style=\"text-align: right;\">\n",
       "      <th></th>\n",
       "      <th>DateCrawled</th>\n",
       "      <th>Price</th>\n",
       "      <th>VehicleType</th>\n",
       "      <th>RegistrationYear</th>\n",
       "      <th>Gearbox</th>\n",
       "      <th>Power</th>\n",
       "      <th>Model</th>\n",
       "      <th>Kilometer</th>\n",
       "      <th>RegistrationMonth</th>\n",
       "      <th>FuelType</th>\n",
       "      <th>Brand</th>\n",
       "      <th>NotRepaired</th>\n",
       "      <th>DateCreated</th>\n",
       "      <th>NumberOfPictures</th>\n",
       "      <th>PostalCode</th>\n",
       "      <th>LastSeen</th>\n",
       "    </tr>\n",
       "  </thead>\n",
       "  <tbody>\n",
       "    <tr>\n",
       "      <th>0</th>\n",
       "      <td>2016-03-24 11:52:17</td>\n",
       "      <td>480</td>\n",
       "      <td>NaN</td>\n",
       "      <td>1993</td>\n",
       "      <td>manual</td>\n",
       "      <td>0</td>\n",
       "      <td>golf</td>\n",
       "      <td>150000</td>\n",
       "      <td>0</td>\n",
       "      <td>petrol</td>\n",
       "      <td>volkswagen</td>\n",
       "      <td>NaN</td>\n",
       "      <td>2016-03-24 00:00:00</td>\n",
       "      <td>0</td>\n",
       "      <td>70435</td>\n",
       "      <td>2016-04-07 03:16:57</td>\n",
       "    </tr>\n",
       "    <tr>\n",
       "      <th>1</th>\n",
       "      <td>2016-03-24 10:58:45</td>\n",
       "      <td>18300</td>\n",
       "      <td>coupe</td>\n",
       "      <td>2011</td>\n",
       "      <td>manual</td>\n",
       "      <td>190</td>\n",
       "      <td>NaN</td>\n",
       "      <td>125000</td>\n",
       "      <td>5</td>\n",
       "      <td>gasoline</td>\n",
       "      <td>audi</td>\n",
       "      <td>yes</td>\n",
       "      <td>2016-03-24 00:00:00</td>\n",
       "      <td>0</td>\n",
       "      <td>66954</td>\n",
       "      <td>2016-04-07 01:46:50</td>\n",
       "    </tr>\n",
       "    <tr>\n",
       "      <th>2</th>\n",
       "      <td>2016-03-14 12:52:21</td>\n",
       "      <td>9800</td>\n",
       "      <td>suv</td>\n",
       "      <td>2004</td>\n",
       "      <td>auto</td>\n",
       "      <td>163</td>\n",
       "      <td>grand</td>\n",
       "      <td>125000</td>\n",
       "      <td>8</td>\n",
       "      <td>gasoline</td>\n",
       "      <td>jeep</td>\n",
       "      <td>NaN</td>\n",
       "      <td>2016-03-14 00:00:00</td>\n",
       "      <td>0</td>\n",
       "      <td>90480</td>\n",
       "      <td>2016-04-05 12:47:46</td>\n",
       "    </tr>\n",
       "    <tr>\n",
       "      <th>3</th>\n",
       "      <td>2016-03-17 16:54:04</td>\n",
       "      <td>1500</td>\n",
       "      <td>small</td>\n",
       "      <td>2001</td>\n",
       "      <td>manual</td>\n",
       "      <td>75</td>\n",
       "      <td>golf</td>\n",
       "      <td>150000</td>\n",
       "      <td>6</td>\n",
       "      <td>petrol</td>\n",
       "      <td>volkswagen</td>\n",
       "      <td>no</td>\n",
       "      <td>2016-03-17 00:00:00</td>\n",
       "      <td>0</td>\n",
       "      <td>91074</td>\n",
       "      <td>2016-03-17 17:40:17</td>\n",
       "    </tr>\n",
       "    <tr>\n",
       "      <th>4</th>\n",
       "      <td>2016-03-31 17:25:20</td>\n",
       "      <td>3600</td>\n",
       "      <td>small</td>\n",
       "      <td>2008</td>\n",
       "      <td>manual</td>\n",
       "      <td>69</td>\n",
       "      <td>fabia</td>\n",
       "      <td>90000</td>\n",
       "      <td>7</td>\n",
       "      <td>gasoline</td>\n",
       "      <td>skoda</td>\n",
       "      <td>no</td>\n",
       "      <td>2016-03-31 00:00:00</td>\n",
       "      <td>0</td>\n",
       "      <td>60437</td>\n",
       "      <td>2016-04-06 10:17:21</td>\n",
       "    </tr>\n",
       "  </tbody>\n",
       "</table>\n",
       "</div>"
      ],
      "text/plain": [
       "           DateCrawled  Price VehicleType  RegistrationYear Gearbox  Power  \\\n",
       "0  2016-03-24 11:52:17    480         NaN              1993  manual      0   \n",
       "1  2016-03-24 10:58:45  18300       coupe              2011  manual    190   \n",
       "2  2016-03-14 12:52:21   9800         suv              2004    auto    163   \n",
       "3  2016-03-17 16:54:04   1500       small              2001  manual     75   \n",
       "4  2016-03-31 17:25:20   3600       small              2008  manual     69   \n",
       "\n",
       "   Model  Kilometer  RegistrationMonth  FuelType       Brand NotRepaired  \\\n",
       "0   golf     150000                  0    petrol  volkswagen         NaN   \n",
       "1    NaN     125000                  5  gasoline        audi         yes   \n",
       "2  grand     125000                  8  gasoline        jeep         NaN   \n",
       "3   golf     150000                  6    petrol  volkswagen          no   \n",
       "4  fabia      90000                  7  gasoline       skoda          no   \n",
       "\n",
       "           DateCreated  NumberOfPictures  PostalCode             LastSeen  \n",
       "0  2016-03-24 00:00:00                 0       70435  2016-04-07 03:16:57  \n",
       "1  2016-03-24 00:00:00                 0       66954  2016-04-07 01:46:50  \n",
       "2  2016-03-14 00:00:00                 0       90480  2016-04-05 12:47:46  \n",
       "3  2016-03-17 00:00:00                 0       91074  2016-03-17 17:40:17  \n",
       "4  2016-03-31 00:00:00                 0       60437  2016-04-06 10:17:21  "
      ]
     },
     "execution_count": 2,
     "metadata": {},
     "output_type": "execute_result"
    }
   ],
   "source": [
    "# Путь к файлу на локальном компьютере\n",
    "path = 'datasets/autos.csv'\n",
    "\n",
    "df = pd.read_csv(path)\n",
    "df.info()\n",
    "df.head()"
   ]
  },
  {
   "cell_type": "markdown",
   "metadata": {},
   "source": [
    "Пропуски есть в столбцах VehicleType, Gearbox, Model, FuelType, NotRepaired. Столбцы DateCrawled, DateCreated и LastSeen содержат даты, но имеют неверный тип данных.\n",
    "\n",
    "Взглянем на распределение числовых данных."
   ]
  },
  {
   "cell_type": "code",
   "execution_count": 3,
   "metadata": {},
   "outputs": [
    {
     "data": {
      "text/html": [
       "<div>\n",
       "<style scoped>\n",
       "    .dataframe tbody tr th:only-of-type {\n",
       "        vertical-align: middle;\n",
       "    }\n",
       "\n",
       "    .dataframe tbody tr th {\n",
       "        vertical-align: top;\n",
       "    }\n",
       "\n",
       "    .dataframe thead th {\n",
       "        text-align: right;\n",
       "    }\n",
       "</style>\n",
       "<table border=\"1\" class=\"dataframe\">\n",
       "  <thead>\n",
       "    <tr style=\"text-align: right;\">\n",
       "      <th></th>\n",
       "      <th>Price</th>\n",
       "      <th>RegistrationYear</th>\n",
       "      <th>Power</th>\n",
       "      <th>Kilometer</th>\n",
       "      <th>RegistrationMonth</th>\n",
       "      <th>NumberOfPictures</th>\n",
       "      <th>PostalCode</th>\n",
       "    </tr>\n",
       "  </thead>\n",
       "  <tbody>\n",
       "    <tr>\n",
       "      <th>count</th>\n",
       "      <td>354369.000000</td>\n",
       "      <td>354369.000000</td>\n",
       "      <td>354369.000000</td>\n",
       "      <td>354369.000000</td>\n",
       "      <td>354369.000000</td>\n",
       "      <td>354369.0</td>\n",
       "      <td>354369.000000</td>\n",
       "    </tr>\n",
       "    <tr>\n",
       "      <th>mean</th>\n",
       "      <td>4416.656776</td>\n",
       "      <td>2004.234448</td>\n",
       "      <td>110.094337</td>\n",
       "      <td>128211.172535</td>\n",
       "      <td>5.714645</td>\n",
       "      <td>0.0</td>\n",
       "      <td>50508.689087</td>\n",
       "    </tr>\n",
       "    <tr>\n",
       "      <th>std</th>\n",
       "      <td>4514.158514</td>\n",
       "      <td>90.227958</td>\n",
       "      <td>189.850405</td>\n",
       "      <td>37905.341530</td>\n",
       "      <td>3.726421</td>\n",
       "      <td>0.0</td>\n",
       "      <td>25783.096248</td>\n",
       "    </tr>\n",
       "    <tr>\n",
       "      <th>min</th>\n",
       "      <td>0.000000</td>\n",
       "      <td>1000.000000</td>\n",
       "      <td>0.000000</td>\n",
       "      <td>5000.000000</td>\n",
       "      <td>0.000000</td>\n",
       "      <td>0.0</td>\n",
       "      <td>1067.000000</td>\n",
       "    </tr>\n",
       "    <tr>\n",
       "      <th>25%</th>\n",
       "      <td>1050.000000</td>\n",
       "      <td>1999.000000</td>\n",
       "      <td>69.000000</td>\n",
       "      <td>125000.000000</td>\n",
       "      <td>3.000000</td>\n",
       "      <td>0.0</td>\n",
       "      <td>30165.000000</td>\n",
       "    </tr>\n",
       "    <tr>\n",
       "      <th>50%</th>\n",
       "      <td>2700.000000</td>\n",
       "      <td>2003.000000</td>\n",
       "      <td>105.000000</td>\n",
       "      <td>150000.000000</td>\n",
       "      <td>6.000000</td>\n",
       "      <td>0.0</td>\n",
       "      <td>49413.000000</td>\n",
       "    </tr>\n",
       "    <tr>\n",
       "      <th>75%</th>\n",
       "      <td>6400.000000</td>\n",
       "      <td>2008.000000</td>\n",
       "      <td>143.000000</td>\n",
       "      <td>150000.000000</td>\n",
       "      <td>9.000000</td>\n",
       "      <td>0.0</td>\n",
       "      <td>71083.000000</td>\n",
       "    </tr>\n",
       "    <tr>\n",
       "      <th>max</th>\n",
       "      <td>20000.000000</td>\n",
       "      <td>9999.000000</td>\n",
       "      <td>20000.000000</td>\n",
       "      <td>150000.000000</td>\n",
       "      <td>12.000000</td>\n",
       "      <td>0.0</td>\n",
       "      <td>99998.000000</td>\n",
       "    </tr>\n",
       "  </tbody>\n",
       "</table>\n",
       "</div>"
      ],
      "text/plain": [
       "               Price  RegistrationYear          Power      Kilometer  \\\n",
       "count  354369.000000     354369.000000  354369.000000  354369.000000   \n",
       "mean     4416.656776       2004.234448     110.094337  128211.172535   \n",
       "std      4514.158514         90.227958     189.850405   37905.341530   \n",
       "min         0.000000       1000.000000       0.000000    5000.000000   \n",
       "25%      1050.000000       1999.000000      69.000000  125000.000000   \n",
       "50%      2700.000000       2003.000000     105.000000  150000.000000   \n",
       "75%      6400.000000       2008.000000     143.000000  150000.000000   \n",
       "max     20000.000000       9999.000000   20000.000000  150000.000000   \n",
       "\n",
       "       RegistrationMonth  NumberOfPictures     PostalCode  \n",
       "count      354369.000000          354369.0  354369.000000  \n",
       "mean            5.714645               0.0   50508.689087  \n",
       "std             3.726421               0.0   25783.096248  \n",
       "min             0.000000               0.0    1067.000000  \n",
       "25%             3.000000               0.0   30165.000000  \n",
       "50%             6.000000               0.0   49413.000000  \n",
       "75%             9.000000               0.0   71083.000000  \n",
       "max            12.000000               0.0   99998.000000  "
      ]
     },
     "execution_count": 3,
     "metadata": {},
     "output_type": "execute_result"
    }
   ],
   "source": [
    "df.describe()"
   ]
  },
  {
   "cell_type": "markdown",
   "metadata": {},
   "source": [
    "Столбец Price содержит нулевые значения. Столбцы RegistrationYear и Power имеет нереальные значения: слишком маленькие и слишком большие. Столбец RegistrationMonth имеет нулевые значения. Все значения в столбце NumberOfPictures - нулевые."
   ]
  },
  {
   "cell_type": "markdown",
   "metadata": {},
   "source": [
    "<a id='section2'></a>"
   ]
  },
  {
   "cell_type": "markdown",
   "metadata": {},
   "source": [
    "#### 2. Обработка выбросов"
   ]
  },
  {
   "cell_type": "markdown",
   "metadata": {},
   "source": [
    "Распределение числовых данных позволило определить столбцы, в которых есть выбросы. В столбцах с категориальными данными есть пропуски. Сначала избавимся от выбросов, но прежде более подробно изучим данные в них.\n",
    "\n",
    "Столбец RegistrationMonth не имеет значения, так как маловероятно, что он может как-то повлиять на цену автомобиля. Поэтому изучим данные в столбцах Price, RegistrationYear, Power и Kilometer"
   ]
  },
  {
   "cell_type": "code",
   "execution_count": 4,
   "metadata": {},
   "outputs": [
    {
     "data": {
      "image/png": "[encoded data removed]",
      "text/plain": [
       "<Figure size 864x864 with 4 Axes>"
      ]
     },
     "metadata": {},
     "output_type": "display_data"
    }
   ],
   "source": [
    "sns.set()\n",
    "\n",
    "# Выделим признаки для изучения\n",
    "numb_col = ['Price', 'RegistrationYear', 'Power', 'Kilometer']\n",
    "\n",
    "def facet_boxplot(df, columns):\n",
    "    # Сформируем FacetGrid\n",
    "    g = sns.FacetGrid(pd.melt(df[columns]), col='variable', col_wrap=2, height=6, sharex=False)\n",
    "    # Разместим на нем боксплоты\n",
    "    g.map(sns.boxplot, 'value', order=any)\n",
    "    plt.show()\n",
    "\n",
    "facet_boxplot(df, numb_col)"
   ]
  },
  {
   "cell_type": "markdown",
   "metadata": {},
   "source": [
    "Столбец Price содержит нулевые значения, а значения от 15000 до 20000 евро сложно назвать выбросами. Столбец Power содержит довольно много неадекватных значений. Есть как мощности меньше 63 л.с. (мощность Daewoo Matiz), так и больше 1500 л.с.(Bugatti Chiron). Значения в столбце Kilometer адекватные. По графику RegistrationYear очень сложно судить, с какого момента начинаются выбросы, но очевидно, что значение не может быть больше 2020 (текущий год) и меньше 1885 (появление первого автомобиля). Получим срез датафрейма с учетом изученной информации и посмотрим на распределение. "
   ]
  },
  {
   "cell_type": "code",
   "execution_count": 5,
   "metadata": {},
   "outputs": [
    {
     "data": {
      "image/png": "[encoded data removed]",
      "text/plain": [
       "<Figure size 864x864 with 4 Axes>"
      ]
     },
     "metadata": {},
     "output_type": "display_data"
    }
   ],
   "source": [
    "df_clean = df[(df['Price'] > 0) &\n",
    "              (df['RegistrationYear'] >= 1885) &\n",
    "              (df['RegistrationYear'] <= 2020) &\n",
    "              (df['Power'] > 0) &\n",
    "              (df['Power'] <= 1500)\n",
    "             ]\n",
    "facet_boxplot(df_clean, numb_col)"
   ]
  },
  {
   "cell_type": "markdown",
   "metadata": {},
   "source": [
    "Теперь видно, что RegistrationYear можно ограничить снизу значением 1980."
   ]
  },
  {
   "cell_type": "code",
   "execution_count": 6,
   "metadata": {},
   "outputs": [
    {
     "data": {
      "text/plain": [
       "0.8601232049078785"
      ]
     },
     "execution_count": 6,
     "metadata": {},
     "output_type": "execute_result"
    }
   ],
   "source": [
    "df_clean = df_clean[df_clean['RegistrationYear'] >= 1980]\n",
    "\n",
    "# Оценим потерю данных\n",
    "len(df_clean) / len(df)"
   ]
  },
  {
   "cell_type": "markdown",
   "metadata": {},
   "source": [
    "Потеряли 14% данных, но теперь можем быть уверены, что выбросы не повлияют на качество модели."
   ]
  },
  {
   "cell_type": "markdown",
   "metadata": {},
   "source": [
    "<a id='section9'></a>"
   ]
  },
  {
   "cell_type": "markdown",
   "metadata": {},
   "source": [
    "#### 3. Обработка пропусков"
   ]
  },
  {
   "cell_type": "markdown",
   "metadata": {},
   "source": [
    "Теперь обработаем пропуски. В данной работе в дальнейшем будем использовать модели LGBMRegressor и CatBoostRegressor для прогнозирования целевого признака. Первая модель умеет сама обрабатывать пропуски, вторая - не умеет. Поэтому попробуем два варианта работы с пропусками, а затем сравним качество полученных моделей:\n",
    "- Обработам пропуски на основе наиболее часто встречаемых значений для характерных моделей\n",
    "- Дадим модели LGBMRegressor самостоятельно разобраться с пропусками, а для модели CatBoostRegressor заполним пропуски характерными значениями.\n",
    "\n",
    "Для обработки пропусков реализуем функции. Для обучения первых моделей обработаем пропуски первым способом, который заключается в следующем:\n",
    "\n",
    "Пропуски в столбце VehicleType можно обработать на основе данных о марке и модели, как и пропуски в столбцах Gearbox и FuelType: найдём максимально похожие модели автомобилей и возьмем значения с них. Определить модель автомобиля на основе других данных невозможно, так как у каждого производителя могут быть похожие по параметрами автомобили, но являющиеся разными моделями, поэтому пропуски в столбце Model просто удалим. Пропуски в столбце NotRepaired заменим на основе предположения, что если данных о ремонте не указано, значит автомобиль скорее всего не ремонтировался."
   ]
  },
  {
   "cell_type": "code",
   "execution_count": 7,
   "metadata": {},
   "outputs": [],
   "source": [
    "def na_processing(df_init, algoritm_num=1, model_num=1):\n",
    "    '''\n",
    "    Функция обработки пропусков в датафрейме\n",
    "    df_init - исходный датафрейм\n",
    "    algoritm_num - номер алгоритма:\n",
    "        1 - обработка пропусков на основе словаря,\n",
    "        2 - для LGBM пропуски игнорировать, для CB пропуски заполнить характрным значением\n",
    "    model_num - номер используемой модели:\n",
    "        1 - LGBM\n",
    "        2 - CB\n",
    "    Функция возвращает обработанный датафрейм\n",
    "    '''\n",
    "    # Будем работать с копией датафрейма, что бы случайно не удалить данные\n",
    "    df = df_init.copy()\n",
    "    if algoritm_num == 1:        \n",
    "        # Удалим строки, в которых отсутствует название модели\n",
    "        df.dropna(subset=['Model'], inplace=True)\n",
    "        # Заполним отсутствующие значения в столбце NotRepaired значением 'no'\n",
    "        df['NotRepaired'].fillna('no', inplace=True)\n",
    "        \n",
    "        # Теперь создадим словарь, в который для каждой модели поставим в соответствие\n",
    "        # тип кузова, тип КПП, тип топлива на основе наиболее часто встречаемых значений\n",
    "\n",
    "        # Сначала сгруппируем данные по указанным столбцам и посчитаем суммарное количество моделей\n",
    "        df_agg = df.groupby(['Model', 'VehicleType', 'Gearbox', 'FuelType']).agg('count')\n",
    "        # Для каждой модели оставим только наиболее часто встречаемые сочетания\n",
    "        df_agg_best = df_agg['Price'].groupby(level=0, group_keys=False).nlargest(1).index.values\n",
    "        # Преобразуем полученный двумерный массив в словарь\n",
    "        df_agg_dict = dict((x[0], (x[1], x[2], x[3])) for x in df_agg_best)\n",
    "        \n",
    "        # Применим описанную функцию для заполнения пропусков\n",
    "        df[['VehicleType', 'Gearbox', 'FuelType']] = df.apply(lambda x: pd.Series(filler_na(x, df_agg_dict)), axis=1)\n",
    "\n",
    "        # Оценим потерю данных после обработки пропусков данным методом\n",
    "        print('Потеря данных по первому сценарию: {:.3%}'.format(1 - len(df)/len(df_init)))\n",
    "    if algoritm_num == 2:\n",
    "        if model_num == 2:\n",
    "            df.fillna(-1, inplace=True)\n",
    "        else:\n",
    "            return df\n",
    "    return df\n",
    "        \n",
    "# Опишем функцию для заполнения пропусков на основе словаря\n",
    "def filler_na(row, df_dict):\n",
    "    '''\n",
    "    Данная функция заполняет отсутствующие значения в столбцах\n",
    "    Model, VehicleType, Gearbox и FuelType на основе словаря построчно\n",
    "    row - строка датафрейма\n",
    "    df_dict - словарь для заполнения пропусков\n",
    "    Функция возвращает значения в соответствующих столбцах после обработки\n",
    "    '''\n",
    "    # Сначала запишем значения соответствующих столбцов в переменные\n",
    "    Model = row['Model']\n",
    "    VehicleType = row['VehicleType']\n",
    "    Gearbox = row['Gearbox']\n",
    "    FuelType = row['FuelType']\n",
    "    # Если значение отсутствует - ищем соответствующее значение в словаре\n",
    "    if pd.isna(VehicleType):\n",
    "        VehicleType =  df_dict.get(Model)[0]\n",
    "    if pd.isna(Gearbox):\n",
    "        Gearbox =  df_dict.get(Model)[1]\n",
    "    if pd.isna(FuelType):\n",
    "        FuelType =  df_dict.get(Model)[2]\n",
    "    # Возвращаем полученные значения\n",
    "    return VehicleType, Gearbox, FuelType"
   ]
  },
  {
   "cell_type": "markdown",
   "metadata": {},
   "source": [
    "Теперь опишем функцию для обработки датафрейма. Приведем тип данных в столбцах с датами к нужному виду, данные в столбце NotRepaired заменим на числа. Также создадим новые признаки, показывающие возраст автомобиля и время, за которое автомобиль купили. После чего удалим все лишние столбцы."
   ]
  },
  {
   "cell_type": "code",
   "execution_count": 8,
   "metadata": {},
   "outputs": [],
   "source": [
    "def df_preprocessing(df):\n",
    "    '''\n",
    "    Функция выполняет обработку датафрейма для дальнейшего обучения модели:\n",
    "        - Приводит определенные столбцы к datetime формату\n",
    "        - Обрабатывает значения в столбце NotRepaired\n",
    "        - Добавляет новые признаки\n",
    "        - Удаляет лишние признаки\n",
    "    Функция возвращает обработанный датафрейм\n",
    "    \n",
    "    '''\n",
    "    # Приведем столбцы с датами в нужный формат\n",
    "    df['DateCrawled'] = pd.to_datetime(df['DateCrawled'], format='%Y%m%d %H:%M:%S')\n",
    "    df['DateCreated'] = pd.to_datetime(df['DateCreated'], format='%Y%m%d %H:%M:%S')\n",
    "    df['LastSeen'] = pd.to_datetime(df['LastSeen'], format='%Y%m%d %H:%M:%S')\n",
    "    \n",
    "    # Обработаем столбец NotRepaired\n",
    "    df['NotRepaired'].replace('yes', 1, inplace=True)\n",
    "    df['NotRepaired'].replace('no', 0, inplace=True)\n",
    "    \n",
    "    # Создадим новые признаки\n",
    "    df['car_age'] = (df['DateCreated'].dt.year - df['RegistrationYear'])\n",
    "    df['duration'] = (df['LastSeen'] - df['DateCreated']).dt.days\n",
    "    \n",
    "    # Удалим лишние столбцы\n",
    "    df.drop(['DateCrawled',\n",
    "             'RegistrationYear',\n",
    "             'RegistrationMonth',\n",
    "             'DateCreated', \n",
    "             'NumberOfPictures',\n",
    "             'PostalCode',\n",
    "             'LastSeen'\n",
    "            ], axis=1, inplace=True)\n",
    "    return df"
   ]
  },
  {
   "cell_type": "markdown",
   "metadata": {},
   "source": [
    "Опишем функцию по обработке признаков."
   ]
  },
  {
   "cell_type": "code",
   "execution_count": 9,
   "metadata": {},
   "outputs": [],
   "source": [
    "def features_preprocessing(df, random_state=0):\n",
    "    '''\n",
    "    Функция для разделения датафрейма на тренировочные и тестовые выборки,\n",
    "    определения фолдов для кросс-валидации\n",
    "    df - исходный датафрейм\n",
    "    Функция возвращает тренировочные и тестовые выборки, фолды и список признаков,\n",
    "    содержащих категориальные данные\n",
    "    '''\n",
    "    # Отделим признаки от целевого признака\n",
    "    X = df.drop('Price', axis=1)\n",
    "    y = df['Price']\n",
    "    \n",
    "    # Для LGBMRegressor необходимо категориальные признаки привести к типу category\n",
    "    # Выделим категориальные признаки\n",
    "    cat_columns = X.select_dtypes(include='object').columns.tolist()\n",
    "    X[cat_columns] = X[cat_columns].astype('category')\n",
    "        \n",
    "    # Разделим выборку на тренировочкую и тестовую\n",
    "    X_train, X_test, y_train, y_test = train_test_split(X, y, test_size=0.25, random_state=random_state, shuffle=True)\n",
    "    \n",
    "    # Получим фолды для выполнения кросс валидации\n",
    "    kf = list(KFold(n_splits=10, shuffle=True, random_state=random_state) \\\n",
    "              .split(X_train, y_train))\n",
    "    return X_train, X_test, y_train, y_test, kf, cat_columns"
   ]
  },
  {
   "cell_type": "markdown",
   "metadata": {},
   "source": [
    "Теперь напишем функцию полной предобработки датафрейма для обучения конкретной модели."
   ]
  },
  {
   "cell_type": "code",
   "execution_count": 10,
   "metadata": {},
   "outputs": [],
   "source": [
    "def preprocessing(df, algoritm_num=1, model_num=1, random_state=0):\n",
    "    '''\n",
    "    Функция выполняет полную предобработку исходного датафрейма:\n",
    "        - обрабатывает пропуски\n",
    "        - обрабатывает признаки\n",
    "        - делит данные на тренировочные и тестовые выборки\n",
    "    df - исходный датафрейм\n",
    "    algoritm_num - номер алгоритма:\n",
    "        1 - обработка пропусков на основе словаря,\n",
    "        2 - для LGBM пропуски игнорировать, для CB пропуски заполнить характрным значением\n",
    "    model_num - номер используемой модели:\n",
    "        1 - LGBM\n",
    "        2 - CB\n",
    "    Функция возвращает тренировочные и тестовые выборки, фолды и список признаков,\n",
    "    содержащих категориальные данные\n",
    "    '''\n",
    "    df = na_processing(df, algoritm_num, model_num)\n",
    "    df = df_preprocessing(df)\n",
    "    X_train, X_test, y_train, y_test, kf, cat_columns = features_preprocessing(df, random_state)\n",
    "    return X_train, X_test, y_train, y_test, kf, cat_columns"
   ]
  },
  {
   "cell_type": "markdown",
   "metadata": {},
   "source": [
    "### Вывод\n",
    "\n"
   ]
  },
  {
   "cell_type": "markdown",
   "metadata": {},
   "source": [
    "Данные были загружены и изучены. Затем были написаны функции для обработки пропусков, приведения типа данных в столбцах к нужному виду, создания новых признаков, удаления лишних столбцов и разделения датафрейма на тренировочную и тестовую выборки."
   ]
  },
  {
   "cell_type": "markdown",
   "metadata": {},
   "source": [
    "### Шаг 2. Обучение моделей"
   ]
  },
  {
   "cell_type": "markdown",
   "metadata": {},
   "source": [
    "<a id='section3'></a>"
   ]
  },
  {
   "cell_type": "markdown",
   "metadata": {},
   "source": [
    "#### 1. Подготовка выборок"
   ]
  },
  {
   "cell_type": "markdown",
   "metadata": {},
   "source": [
    "Прежде, чем приступать к обучению моделей, необходимо выполнить функцию предобработки данных, создать метрику на основе MSE."
   ]
  },
  {
   "cell_type": "code",
   "execution_count": 11,
   "metadata": {},
   "outputs": [
    {
     "name": "stdout",
     "output_type": "stream",
     "text": [
      "Потеря данных по первому сценарию: 3.940%\n"
     ]
    }
   ],
   "source": [
    "random_state = 321\n",
    "\n",
    "# Разделим датафрейм на выборки\n",
    "X_train, X_test, y_train, y_test, kf, cat_columns = preprocessing(df_clean, 1, 1, random_state)\n",
    "\n",
    "# Создадим метрику на основе MSE\n",
    "mse_scorer = make_scorer(mean_squared_error, greater_is_better=False)"
   ]
  },
  {
   "cell_type": "markdown",
   "metadata": {},
   "source": [
    "Обработка пропусков по первому сценарию привела к потере 4% данных. Можно приступать к обучению моделей."
   ]
  },
  {
   "cell_type": "markdown",
   "metadata": {},
   "source": [
    "<a id='section4'></a>"
   ]
  },
  {
   "cell_type": "markdown",
   "metadata": {},
   "source": [
    "#### 2. Обучение LGBMRegressor"
   ]
  },
  {
   "cell_type": "markdown",
   "metadata": {},
   "source": [
    "Сначала попробуем обучить LGBMRegressor со стандартными значениями гиперпараметров."
   ]
  },
  {
   "cell_type": "code",
   "execution_count": 12,
   "metadata": {},
   "outputs": [],
   "source": [
    "# Опишем функции для вывода результатов\n",
    "def rmse_calc(model, X_train, X_test, y_train, y_test, kf, catboost=False):\n",
    "    '''\n",
    "    Функция выводит значение RMSE на тренировочных и тестовых данных\n",
    "    model - обученная модель\n",
    "    X_train - признаки тренировочной выборки\n",
    "    X_test - признаки тестовой выборки\n",
    "    y_train - целевой признак тренировочной выборки\n",
    "    y_test - целевой признак тестовой выборки\n",
    "    kf - фолды для выполнения кросс-валидации\n",
    "    catboost - является ли model CB\n",
    "    Результат расчета метрик добавляется в соответствующий лист\n",
    "    '''\n",
    "    # Получим предсказания\n",
    "    y_pred = model.predict(X_test)\n",
    "\n",
    "    # Рассчитаем RMSE\n",
    "    if catboost:\n",
    "        score_train = list(list(model.best_score_.values())[0].values())[0]\n",
    "    else:\n",
    "        score_train = np.mean(cross_val_score(model, X_train, y_train, cv=kf, scoring=mse_scorer, n_jobs=-1)*(-1))**0.5\n",
    "    score_test = mean_squared_error(y_test, y_pred)**0.5\n",
    "    print('RMSE на тренировочной выборке = {}, на тестовой = {}'.format(score_train, score_test))\n",
    "    rmse_train.append(score_train)\n",
    "    rmse_test.append(score_test)\n",
    "\n",
    "def fit_time(model, X, y):\n",
    "    '''\n",
    "    Функция засекает время обучения модели, а также выполняет само обучение\n",
    "    model - обучаемая модель\n",
    "    X - признаки выборки\n",
    "    y - целевой признак\n",
    "    Время обучения добавляется в лист\n",
    "    '''\n",
    "    start = time.time()\n",
    "    model.fit(X, y)\n",
    "    end = time.time()\n",
    "    ex_time = end - start\n",
    "    minutes = ex_time // 60\n",
    "    seconds = ex_time % 60\n",
    "    print('Время обучения модели: {:.0f} минут, {:.3f} секунд'.format(minutes, seconds))\n",
    "    times.append(ex_time)\n",
    "\n",
    "# Создадим пустые списки для записи времени обучения моделей и метрик\n",
    "times = []\n",
    "rmse_train = []\n",
    "rmse_test = []"
   ]
  },
  {
   "cell_type": "code",
   "execution_count": 13,
   "metadata": {},
   "outputs": [
    {
     "name": "stdout",
     "output_type": "stream",
     "text": [
      "Время обучения модели: 0 минут, 0.703 секунд\n",
      "RMSE на тренировочной выборке = 1555.1476113518422, на тестовой = 1561.272792661019\n"
     ]
    }
   ],
   "source": [
    "# Выберем регрессор\n",
    "model = LGBMRegressor()\n",
    "# Обучим модель\n",
    "fit_time(model, X_train, y_train)\n",
    "# Получим метрику\n",
    "rmse_calc(model, X_train, X_test, y_train, y_test, kf)"
   ]
  },
  {
   "cell_type": "markdown",
   "metadata": {},
   "source": [
    "Модель обучается очень быстро, менее чем за секунду, RMSE на тестовой выборке 1561. Попробуем подобрать гиперпараметры с помощью GridSeachCV"
   ]
  },
  {
   "cell_type": "code",
   "execution_count": 14,
   "metadata": {},
   "outputs": [],
   "source": [
    "# Выберем регрессор\n",
    "model = LGBMRegressor(n_estimators=700)\n",
    "\n",
    "# Зададим варианты изменения гиперпараметров\n",
    "params = {'num_leaves': range(6, 31, 5),\n",
    "          'learning_rate': [0.005, 0.01, 0.05, 0.2]\n",
    "         }\n",
    "\n",
    "# Опишем GridSearchCV\n",
    "grid = GridSearchCV(model,\n",
    "                    params,\n",
    "                    scoring=mse_scorer,\n",
    "                    n_jobs=-1,\n",
    "                    cv=kf\n",
    "                   )"
   ]
  },
  {
   "cell_type": "code",
   "execution_count": 15,
   "metadata": {},
   "outputs": [
    {
     "name": "stdout",
     "output_type": "stream",
     "text": [
      "Wall time: 7min 55s\n"
     ]
    },
    {
     "data": {
      "text/plain": [
       "GridSearchCV(cv=[(array([     0,      1,      2, ..., 219590, 219591, 219592]),\n",
       "                  array([     3,     12,     20, ..., 219573, 219581, 219586])),\n",
       "                 (array([     0,      1,      2, ..., 219590, 219591, 219592]),\n",
       "                  array([     4,     21,     46, ..., 219536, 219568, 219571])),\n",
       "                 (array([     0,      2,      3, ..., 219590, 219591, 219592]),\n",
       "                  array([     1,     15,     28, ..., 219561, 219575, 219584])),\n",
       "                 (array([     0,      1,      3, ..., 219590, 219591, 219592]),\n",
       "                  array([     2,      5,      9, ..., 219570, 219577, 219578]))...\n",
       "                 (array([     0,      1,      2, ..., 219589, 219590, 219591]),\n",
       "                  array([     6,      8,     48, ..., 219579, 219580, 219592])),\n",
       "                 (array([     0,      1,      2, ..., 219590, 219591, 219592]),\n",
       "                  array([     7,     24,     25, ..., 219521, 219567, 219574]))],\n",
       "             estimator=LGBMRegressor(n_estimators=700), n_jobs=-1,\n",
       "             param_grid={'learning_rate': [0.005, 0.01, 0.05, 0.2],\n",
       "                         'num_leaves': range(6, 31, 5)},\n",
       "             scoring=make_scorer(mean_squared_error, greater_is_better=False))"
      ]
     },
     "execution_count": 15,
     "metadata": {},
     "output_type": "execute_result"
    }
   ],
   "source": [
    "%%time\n",
    "# Обучим модель GridSearchCV\n",
    "grid.fit(X_train, y_train)"
   ]
  },
  {
   "cell_type": "code",
   "execution_count": 16,
   "metadata": {},
   "outputs": [
    {
     "name": "stdout",
     "output_type": "stream",
     "text": [
      "Время обучения модели: 0 минут, 2.636 секунд\n",
      "RMSE на тренировочной выборке = 1477.624702784316, на тестовой = 1477.6586220791028\n"
     ]
    }
   ],
   "source": [
    "# Выберем регрессор с лучшими гиперпараметрами\n",
    "model_best = grid.best_estimator_\n",
    "\n",
    "# Обучим лучший регрессор на тренировочных данных\n",
    "fit_time(model_best, X_train, y_train)\n",
    "\n",
    "# Выведем значения метрик\n",
    "rmse_calc(model_best, X_train, X_test, y_train, y_test, kf)"
   ]
  },
  {
   "cell_type": "markdown",
   "metadata": {},
   "source": [
    "Подбор гиперпараметров довольно длителен - 8 минут, но он позволил получить модель, которая обучается за 2 секунды, RMSE на тестовой выборке стал 1478."
   ]
  },
  {
   "cell_type": "markdown",
   "metadata": {},
   "source": [
    "<a id='section5'></a>"
   ]
  },
  {
   "cell_type": "markdown",
   "metadata": {},
   "source": [
    "#### 3. Обучение CatBoostRegressor"
   ]
  },
  {
   "cell_type": "markdown",
   "metadata": {},
   "source": [
    "По заявлениям разработчиков CatBoostRegressor \"из коробки\" показывает очень хорошие результаты, большие чем другие модели бустинга. Поэтому обучим модель CatBoostRegressor со стандартными значениями гиперпараметров. Датафрейм уже предобработан по первому алгоритму."
   ]
  },
  {
   "cell_type": "code",
   "execution_count": 17,
   "metadata": {},
   "outputs": [
    {
     "name": "stdout",
     "output_type": "stream",
     "text": [
      "Learning rate set to 0.101908\n",
      "0:\tlearn: 4282.6852551\ttotal: 264ms\tremaining: 4m 23s\n",
      "250:\tlearn: 1584.0956094\ttotal: 22.7s\tremaining: 1m 7s\n",
      "500:\tlearn: 1519.3447270\ttotal: 45.6s\tremaining: 45.4s\n",
      "750:\tlearn: 1484.4754667\ttotal: 1m 8s\tremaining: 22.6s\n",
      "999:\tlearn: 1460.5499911\ttotal: 1m 30s\tremaining: 0us\n",
      "Время обучения модели: 1 минут, 32.079 секунд\n",
      "RMSE на тренировочной выборке = 1460.5499910659128, на тестовой = 1531.2741330127103\n"
     ]
    }
   ],
   "source": [
    "# Выберем регрессор\n",
    "model = CatBoostRegressor(verbose=250, cat_features=cat_columns)\n",
    "\n",
    "# Обучим модель\n",
    "fit_time(model, X_train, y_train)\n",
    "\n",
    "# Выведем значение метрик\n",
    "rmse_calc(model, X_train, X_test, y_train, y_test, kf, True)"
   ]
  },
  {
   "cell_type": "markdown",
   "metadata": {},
   "source": [
    "На тренировочной выборке CatBoostRegressor действительно показал отличный RMSE, но на тестовой выборке RMSE оказался выше, что говорит о переобучении модели. Кроме того обучается модель значительно дольше, чем LGBM."
   ]
  },
  {
   "cell_type": "markdown",
   "metadata": {},
   "source": [
    "<a id='section6'></a>"
   ]
  },
  {
   "cell_type": "markdown",
   "metadata": {},
   "source": [
    "#### 4. Другой алгоритм обработки пропусков"
   ]
  },
  {
   "cell_type": "markdown",
   "metadata": {},
   "source": [
    "Теперь попробуем второй алгоритм работы с пропусками."
   ]
  },
  {
   "cell_type": "code",
   "execution_count": 18,
   "metadata": {},
   "outputs": [],
   "source": [
    "# Разделим датафрейм на выборки для модели LGBM\n",
    "X_train, X_test, y_train, y_test, kf, cat_columns = preprocessing(df_clean, 2, 1, random_state)"
   ]
  },
  {
   "cell_type": "markdown",
   "metadata": {},
   "source": [
    "Обучим LGBMRegressor с параметрами по умолчанию."
   ]
  },
  {
   "cell_type": "code",
   "execution_count": 19,
   "metadata": {},
   "outputs": [
    {
     "name": "stdout",
     "output_type": "stream",
     "text": [
      "Время обучения модели: 0 минут, 0.752 секунд\n",
      "RMSE на тренировочной выборке = 1572.6543247617656, на тестовой = 1574.1820999599072\n"
     ]
    }
   ],
   "source": [
    "# Выберем регрессор\n",
    "model = LGBMRegressor()\n",
    "# Обучим модель\n",
    "fit_time(model, X_train, y_train)\n",
    "# Получим метрику\n",
    "rmse_calc(model, X_train, X_test, y_train, y_test, kf)"
   ]
  },
  {
   "cell_type": "markdown",
   "metadata": {},
   "source": [
    "Теперь обучим LGBMRegressor с лучшими гиперпараметрами."
   ]
  },
  {
   "cell_type": "code",
   "execution_count": 20,
   "metadata": {},
   "outputs": [
    {
     "name": "stdout",
     "output_type": "stream",
     "text": [
      "Время обучения модели: 0 минут, 2.637 секунд\n",
      "RMSE на тренировочной выборке = 1490.958308712495, на тестовой = 1487.8709007712534\n"
     ]
    }
   ],
   "source": [
    "# Обучим лучший регрессор на тренировочных данных\n",
    "fit_time(model_best, X_train, y_train)\n",
    "\n",
    "# Выведем значения метрик\n",
    "rmse_calc(model_best, X_train, X_test, y_train, y_test, kf)"
   ]
  },
  {
   "cell_type": "markdown",
   "metadata": {},
   "source": [
    "Для обучения CB необходимо снова предобработать данные по второму алгоритму, так как для него есть отличия."
   ]
  },
  {
   "cell_type": "code",
   "execution_count": 21,
   "metadata": {},
   "outputs": [
    {
     "name": "stdout",
     "output_type": "stream",
     "text": [
      "Learning rate set to 0.10264\n",
      "0:\tlearn: 4261.1034205\ttotal: 140ms\tremaining: 2m 19s\n",
      "250:\tlearn: 1590.7358968\ttotal: 27s\tremaining: 1m 20s\n",
      "500:\tlearn: 1527.7212501\ttotal: 52.3s\tremaining: 52s\n",
      "750:\tlearn: 1494.3571134\ttotal: 1m 20s\tremaining: 26.6s\n",
      "999:\tlearn: 1471.8293803\ttotal: 1m 47s\tremaining: 0us\n",
      "Время обучения модели: 1 минут, 48.852 секунд\n",
      "RMSE на тренировочной выборке = 1471.82938028138, на тестовой = 1541.2252642715612\n"
     ]
    }
   ],
   "source": [
    "# Разделим датафрейм на выборки для модели LGBM\n",
    "X_train, X_test, y_train, y_test, kf, cat_columns = preprocessing(df_clean, 2, 2, random_state)\n",
    "\n",
    "# Выберем регрессор\n",
    "model = CatBoostRegressor(verbose=250, cat_features=cat_columns)\n",
    "\n",
    "# Обучим модель\n",
    "fit_time(model, X_train, y_train)\n",
    "\n",
    "# Получим значения метрик\n",
    "rmse_calc(model, X_train, X_test, y_train, y_test, kf, True)"
   ]
  },
  {
   "cell_type": "markdown",
   "metadata": {},
   "source": [
    "### Вывод\n",
    "\n",
    "На данном шаге были обучены две разные модели с разными вариантами обработки пропусков. Анализ результатов будет произведен на следующем шаге."
   ]
  },
  {
   "cell_type": "markdown",
   "metadata": {},
   "source": [
    "### Шаг 3. Анализ результатов"
   ]
  },
  {
   "cell_type": "markdown",
   "metadata": {},
   "source": [
    "<a id='section7'></a>"
   ]
  },
  {
   "cell_type": "markdown",
   "metadata": {},
   "source": [
    "#### 1. Анализ результатов работы различных моделей"
   ]
  },
  {
   "cell_type": "markdown",
   "metadata": {},
   "source": [
    "Сформируем сводную таблицы по всем расчетам и проанализируем результаты."
   ]
  },
  {
   "cell_type": "code",
   "execution_count": 22,
   "metadata": {},
   "outputs": [
    {
     "data": {
      "text/html": [
       "<div>\n",
       "<style scoped>\n",
       "    .dataframe tbody tr th:only-of-type {\n",
       "        vertical-align: middle;\n",
       "    }\n",
       "\n",
       "    .dataframe tbody tr th {\n",
       "        vertical-align: top;\n",
       "    }\n",
       "\n",
       "    .dataframe thead tr th {\n",
       "        text-align: left;\n",
       "    }\n",
       "\n",
       "    .dataframe thead tr:last-of-type th {\n",
       "        text-align: right;\n",
       "    }\n",
       "</style>\n",
       "<table border=\"1\" class=\"dataframe\">\n",
       "  <thead>\n",
       "    <tr>\n",
       "      <th></th>\n",
       "      <th></th>\n",
       "      <th colspan=\"2\" halign=\"left\">RMSE_test</th>\n",
       "      <th colspan=\"2\" halign=\"left\">RMSE_train</th>\n",
       "      <th colspan=\"2\" halign=\"left\">time</th>\n",
       "    </tr>\n",
       "    <tr>\n",
       "      <th></th>\n",
       "      <th>na_alg</th>\n",
       "      <th>1</th>\n",
       "      <th>2</th>\n",
       "      <th>1</th>\n",
       "      <th>2</th>\n",
       "      <th>1</th>\n",
       "      <th>2</th>\n",
       "    </tr>\n",
       "    <tr>\n",
       "      <th>model</th>\n",
       "      <th>params</th>\n",
       "      <th></th>\n",
       "      <th></th>\n",
       "      <th></th>\n",
       "      <th></th>\n",
       "      <th></th>\n",
       "      <th></th>\n",
       "    </tr>\n",
       "  </thead>\n",
       "  <tbody>\n",
       "    <tr>\n",
       "      <th>CB</th>\n",
       "      <th>init</th>\n",
       "      <td>1531.274133</td>\n",
       "      <td>1541.225264</td>\n",
       "      <td>1460.549991</td>\n",
       "      <td>1471.829380</td>\n",
       "      <td>92.078516</td>\n",
       "      <td>108.852332</td>\n",
       "    </tr>\n",
       "    <tr>\n",
       "      <th rowspan=\"2\" valign=\"top\">LGBM</th>\n",
       "      <th>best</th>\n",
       "      <td>1477.658622</td>\n",
       "      <td>1487.870901</td>\n",
       "      <td>1477.624703</td>\n",
       "      <td>1490.958309</td>\n",
       "      <td>2.635996</td>\n",
       "      <td>2.636997</td>\n",
       "    </tr>\n",
       "    <tr>\n",
       "      <th>init</th>\n",
       "      <td>1561.272793</td>\n",
       "      <td>1574.182100</td>\n",
       "      <td>1555.147611</td>\n",
       "      <td>1572.654325</td>\n",
       "      <td>0.702998</td>\n",
       "      <td>0.751999</td>\n",
       "    </tr>\n",
       "  </tbody>\n",
       "</table>\n",
       "</div>"
      ],
      "text/plain": [
       "                RMSE_test                RMSE_train                    time  \\\n",
       "na_alg                  1            2            1            2          1   \n",
       "model params                                                                  \n",
       "CB    init    1531.274133  1541.225264  1460.549991  1471.829380  92.078516   \n",
       "LGBM  best    1477.658622  1487.870901  1477.624703  1490.958309   2.635996   \n",
       "      init    1561.272793  1574.182100  1555.147611  1572.654325   0.702998   \n",
       "\n",
       "                          \n",
       "na_alg                 2  \n",
       "model params              \n",
       "CB    init    108.852332  \n",
       "LGBM  best      2.636997  \n",
       "      init      0.751999  "
      ]
     },
     "execution_count": 22,
     "metadata": {},
     "output_type": "execute_result"
    }
   ],
   "source": [
    "model_name = ['LGBM', 'LGBM', 'CB', 'LGBM', 'LGBM', 'CB']\n",
    "model_param = ['init', 'best', 'init', 'init', 'best', 'init']\n",
    "na_alg = [1, 1, 1, 2, 2, 2]\n",
    "df_results = pd.DataFrame({'model': model_name,\n",
    "                           'params': model_param,\n",
    "                           'na_alg': na_alg,\n",
    "                           'time':times,\n",
    "                           'RMSE_train': rmse_train,\n",
    "                           'RMSE_test': rmse_test                           \n",
    "                          })\n",
    "pd.pivot_table(df_results, index=['model', 'params'], columns='na_alg', values=['RMSE_train', 'RMSE_test', 'time'])"
   ]
  },
  {
   "cell_type": "markdown",
   "metadata": {},
   "source": [
    "Из полученной таблицы можно сделать следующие выводы:\n",
    "- Модели LGBM обучаются очень быстро по сравнению с CB.\n",
    "- На тренировочных данных модель CB \"из коробки\" обладает самымы высоким качеством по сравнению с моделями LGBM\n",
    "- На тестовых данных модель CB также получает результат лучше, чем LGBM из коробки, но LGBM с оптимизированными гиперпараметрами выдает результат значительно лучше. Оптимизиация же параметров CB затруднительна, так как потребует огромного количества вычислительного времени.\n",
    "- Модель CB более склонна к переобучению, чем модель LGBM\n",
    "- Модель LGBM отлично справляется с пропусками, но ручная обработка пропусков более эффективна; ручная обработка пропусков для модели CB также оказывается эффективнее, чем заполнение всех пропусков характерным значением."
   ]
  },
  {
   "cell_type": "markdown",
   "metadata": {},
   "source": [
    "### Общий вывод"
   ]
  },
  {
   "cell_type": "markdown",
   "metadata": {},
   "source": [
    "По всей проделанной работе можно сделать следующие выводы:\n",
    "- Модели градиентного бустинга позволяют добиться отличных показателей метрики RMSE\n",
    "- Модели градиентного бустинга не требуют ручной обработки пропусков, но с ручной обработкой качество оказывается выше\n",
    "- Модель LGBM меньше склонна к переобучению, чем CB\n",
    "- Модель CB \"из коробки\" действительно довольно эффективна, но оптимизированная модель LGBM выдает лучший результат\n",
    "- Модель LGBM обучается значительно быстрее, чем модель CB\n",
    "- Скорость предсказания всех моделей практически мгновенная\n",
    "\n",
    "Таким образом модель CB с гиперпараметрами по умолчанию позволяет в первом приближении получить отличные показатели метрики RMSE. Для дальнейшего улучшения RMSE лучше использовать модель LGBM с оптимизированными гиперпараметрами."
   ]
  },
  {
   "cell_type": "code",
   "execution_count": null,
   "metadata": {},
   "outputs": [],
   "source": []
  }
 ],
 "metadata": {
  "kernelspec": {
   "display_name": "Python 3",
   "language": "python",
   "name": "python3"
  },
  "language_info": {
   "codemirror_mode": {
    "name": "ipython",
    "version": 3
   },
   "file_extension": ".py",
   "mimetype": "text/x-python",
   "name": "python",
   "nbconvert_exporter": "python",
   "pygments_lexer": "ipython3",
   "version": "3.8.6"
  }
 },
 "nbformat": 4,
 "nbformat_minor": 4
}
