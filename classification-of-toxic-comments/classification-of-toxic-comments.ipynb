{
 "cells": [
  {
   "cell_type": "markdown",
   "metadata": {},
   "source": [
    "# Определение токсичных комментариев"
   ]
  },
  {
   "cell_type": "markdown",
   "metadata": {},
   "source": [
    "В данном проекте необходимо получить модель, способную классифицировать комментарии к товарам в интернет-магазине на позитивные и негативные.\n",
    "\n",
    "Необходимо построить модель со значением метрики качества F1 не меньше 0.75."
   ]
  },
  {
   "cell_type": "markdown",
   "metadata": {},
   "source": [
    "## План работы\n",
    "\n",
    "### Шаг 1. Загрузка и подготовка данных\n",
    "- [1. Импорт библиотек, изучение данных](#section1)\n",
    "- [2. Подготовка данных](#section2)\n",
    "\n",
    "### Шаг 2. Обучение моделей\n",
    "- [1. Создание пайплайна](#section3)\n",
    "- [2. Анализ результатов](#section4)\n",
    "- [3. Проверка на адекватность](#section5)\n",
    "- [4. Предсказания на модели BERT](#section6)"
   ]
  },
  {
   "cell_type": "markdown",
   "metadata": {},
   "source": [
    "## Шаг 1. Загрузка и подготовка данных"
   ]
  },
  {
   "cell_type": "markdown",
   "metadata": {},
   "source": [
    "<a id='section1'></a>"
   ]
  },
  {
   "cell_type": "markdown",
   "metadata": {},
   "source": [
    "#### 1. Импорт библиотек, изучение данных"
   ]
  },
  {
   "cell_type": "markdown",
   "metadata": {},
   "source": [
    "Для начала импортируем все библиотеки, потребующиеся в данной работе."
   ]
  },
  {
   "cell_type": "code",
   "execution_count": 1,
   "metadata": {},
   "outputs": [],
   "source": [
    "import pandas as pd\n",
    "import numpy as np\n",
    "\n",
    "import matplotlib.pyplot as plt\n",
    "import seaborn as sns\n",
    "\n",
    "import nltk\n",
    "from nltk.stem import WordNetLemmatizer \n",
    "from nltk.corpus import stopwords\n",
    "\n",
    "from sklearn.feature_extraction.text import TfidfVectorizer\n",
    "\n",
    "from sklearn.model_selection import train_test_split\n",
    "from sklearn.model_selection import cross_val_score\n",
    "from sklearn.model_selection import StratifiedKFold\n",
    "from sklearn.model_selection import GridSearchCV\n",
    "from sklearn.model_selection import RandomizedSearchCV\n",
    "from sklearn.metrics import make_scorer\n",
    "from sklearn.metrics import f1_score\n",
    "from sklearn.metrics import roc_auc_score\n",
    "from sklearn.metrics import roc_curve\n",
    "from sklearn.metrics import plot_confusion_matrix\n",
    "from sklearn.linear_model import LogisticRegression\n",
    "from sklearn.pipeline import Pipeline\n",
    "from sklearn.tree import DecisionTreeClassifier\n",
    "from sklearn.ensemble import RandomForestClassifier\n",
    "\n",
    "from lightgbm import LGBMClassifier\n",
    "\n",
    "import warnings\n",
    "warnings.simplefilter('ignore')\n",
    "\n",
    "import torch\n",
    "import transformers\n",
    "from tqdm import notebook"
   ]
  },
  {
   "cell_type": "markdown",
   "metadata": {},
   "source": [
    "Далее прочитаем файл с данными и изучим общую информацию."
   ]
  },
  {
   "cell_type": "code",
   "execution_count": 2,
   "metadata": {},
   "outputs": [
    {
     "name": "stdout",
     "output_type": "stream",
     "text": [
      "<class 'pandas.core.frame.DataFrame'>\n",
      "RangeIndex: 159571 entries, 0 to 159570\n",
      "Data columns (total 2 columns):\n",
      " #   Column  Non-Null Count   Dtype \n",
      "---  ------  --------------   ----- \n",
      " 0   text    159571 non-null  object\n",
      " 1   toxic   159571 non-null  int64 \n",
      "dtypes: int64(1), object(1)\n",
      "memory usage: 2.4+ MB\n"
     ]
    },
    {
     "data": {
      "text/html": [
       "<div>\n",
       "<style scoped>\n",
       "    .dataframe tbody tr th:only-of-type {\n",
       "        vertical-align: middle;\n",
       "    }\n",
       "\n",
       "    .dataframe tbody tr th {\n",
       "        vertical-align: top;\n",
       "    }\n",
       "\n",
       "    .dataframe thead th {\n",
       "        text-align: right;\n",
       "    }\n",
       "</style>\n",
       "<table border=\"1\" class=\"dataframe\">\n",
       "  <thead>\n",
       "    <tr style=\"text-align: right;\">\n",
       "      <th></th>\n",
       "      <th>text</th>\n",
       "      <th>toxic</th>\n",
       "    </tr>\n",
       "  </thead>\n",
       "  <tbody>\n",
       "    <tr>\n",
       "      <th>0</th>\n",
       "      <td>Explanation\\nWhy the edits made under my usern...</td>\n",
       "      <td>0</td>\n",
       "    </tr>\n",
       "    <tr>\n",
       "      <th>1</th>\n",
       "      <td>D'aww! He matches this background colour I'm s...</td>\n",
       "      <td>0</td>\n",
       "    </tr>\n",
       "    <tr>\n",
       "      <th>2</th>\n",
       "      <td>Hey man, I'm really not trying to edit war. It...</td>\n",
       "      <td>0</td>\n",
       "    </tr>\n",
       "    <tr>\n",
       "      <th>3</th>\n",
       "      <td>\"\\nMore\\nI can't make any real suggestions on ...</td>\n",
       "      <td>0</td>\n",
       "    </tr>\n",
       "    <tr>\n",
       "      <th>4</th>\n",
       "      <td>You, sir, are my hero. Any chance you remember...</td>\n",
       "      <td>0</td>\n",
       "    </tr>\n",
       "    <tr>\n",
       "      <th>5</th>\n",
       "      <td>\"\\n\\nCongratulations from me as well, use the ...</td>\n",
       "      <td>0</td>\n",
       "    </tr>\n",
       "    <tr>\n",
       "      <th>6</th>\n",
       "      <td>COCKSUCKER BEFORE YOU PISS AROUND ON MY WORK</td>\n",
       "      <td>1</td>\n",
       "    </tr>\n",
       "    <tr>\n",
       "      <th>7</th>\n",
       "      <td>Your vandalism to the Matt Shirvington article...</td>\n",
       "      <td>0</td>\n",
       "    </tr>\n",
       "    <tr>\n",
       "      <th>8</th>\n",
       "      <td>Sorry if the word 'nonsense' was offensive to ...</td>\n",
       "      <td>0</td>\n",
       "    </tr>\n",
       "    <tr>\n",
       "      <th>9</th>\n",
       "      <td>alignment on this subject and which are contra...</td>\n",
       "      <td>0</td>\n",
       "    </tr>\n",
       "  </tbody>\n",
       "</table>\n",
       "</div>"
      ],
      "text/plain": [
       "                                                text  toxic\n",
       "0  Explanation\\nWhy the edits made under my usern...      0\n",
       "1  D'aww! He matches this background colour I'm s...      0\n",
       "2  Hey man, I'm really not trying to edit war. It...      0\n",
       "3  \"\\nMore\\nI can't make any real suggestions on ...      0\n",
       "4  You, sir, are my hero. Any chance you remember...      0\n",
       "5  \"\\n\\nCongratulations from me as well, use the ...      0\n",
       "6       COCKSUCKER BEFORE YOU PISS AROUND ON MY WORK      1\n",
       "7  Your vandalism to the Matt Shirvington article...      0\n",
       "8  Sorry if the word 'nonsense' was offensive to ...      0\n",
       "9  alignment on this subject and which are contra...      0"
      ]
     },
     "execution_count": 2,
     "metadata": {},
     "output_type": "execute_result"
    }
   ],
   "source": [
    "# Путь к файлу на локальном компьютере\n",
    "path = 'datasets/toxic_comments.csv'\n",
    "\n",
    "df = pd.read_csv(path)\n",
    "df.info()\n",
    "df.head(10)"
   ]
  },
  {
   "cell_type": "markdown",
   "metadata": {},
   "source": [
    "Данные состоят из двух столбцов. Столбец text содержит текст комментариев. Столбец toxic - информацию о токсичности комментария. \n",
    "\n",
    "Проверим распределение классов."
   ]
  },
  {
   "cell_type": "code",
   "execution_count": 3,
   "metadata": {},
   "outputs": [
    {
     "data": {
      "text/plain": [
       "0.10167887648758234"
      ]
     },
     "execution_count": 3,
     "metadata": {},
     "output_type": "execute_result"
    }
   ],
   "source": [
    "df['toxic'].mean()"
   ]
  },
  {
   "cell_type": "markdown",
   "metadata": {},
   "source": [
    "Токсичных комментариев 10% от общего числа. Учтём это при обучении моделей."
   ]
  },
  {
   "cell_type": "markdown",
   "metadata": {},
   "source": [
    "<a id='section2'></a>"
   ]
  },
  {
   "cell_type": "markdown",
   "metadata": {},
   "source": [
    "#### 2. Подготовка данных"
   ]
  },
  {
   "cell_type": "markdown",
   "metadata": {},
   "source": [
    "В данной работе попробуем два различных подхода к генерации признаков. Первый - TF-IDF. Второй - с помощью модели BERT.\n",
    "\n",
    "Если BERT может самостоятельно токинизировать набор текстов, то для первого подхода потребуется подготовить текст."
   ]
  },
  {
   "cell_type": "code",
   "execution_count": 4,
   "metadata": {},
   "outputs": [
    {
     "name": "stderr",
     "output_type": "stream",
     "text": [
      "[nltk_data] Downloading package wordnet to\n",
      "[nltk_data]     C:\\Users\\Dell\\AppData\\Roaming\\nltk_data...\n",
      "[nltk_data]   Package wordnet is already up-to-date!\n",
      "[nltk_data] Downloading package punkt to\n",
      "[nltk_data]     C:\\Users\\Dell\\AppData\\Roaming\\nltk_data...\n",
      "[nltk_data]   Package punkt is already up-to-date!\n",
      "[nltk_data] Downloading package stopwords to\n",
      "[nltk_data]     C:\\Users\\Dell\\AppData\\Roaming\\nltk_data...\n",
      "[nltk_data]   Package stopwords is already up-to-date!\n"
     ]
    }
   ],
   "source": [
    "# Переведем текст в нужный формат\n",
    "df['corpus'] = df['text'].values.astype('U')\n",
    "\n",
    "# Подготовим лемматизатор\n",
    "nltk.download('wordnet')\n",
    "nltk.download('punkt')\n",
    "lemmatizer = WordNetLemmatizer()\n",
    "\n",
    "# Создадим функцию лемматизации текстов\n",
    "def lemmas(text):\n",
    "    '''\n",
    "    Функция выполняет лемматизацию текста (text)\n",
    "    '''\n",
    "    word_list = nltk.word_tokenize(text)\n",
    "    lemmatized_text = ' '.join([lemmatizer.lemmatize(word) for word in word_list])\n",
    "    return lemmatized_text\n",
    "\n",
    "# Лемматизируем столбец\n",
    "df['lemmas'] = df['corpus'].apply(lemmas)\n",
    "\n",
    "# Скачаем стоп слова\n",
    "nltk.download('stopwords')\n",
    "\n",
    "# Получим набор слов для требуемого языка\n",
    "stopwords = set(stopwords.words('english'))\n",
    "\n",
    "# Создадим счетчик TF-IDF для корпуса текста\n",
    "count_tf_idf = TfidfVectorizer(stop_words=stopwords)"
   ]
  },
  {
   "cell_type": "markdown",
   "metadata": {},
   "source": [
    "## Вывод\n",
    "\n",
    "Данные загружены и изучены. Для выполнения обучения модели на основе TF-IDF была произведена лемматизация, подготовлен счетчик для выполнения трансформации в пайплайне."
   ]
  },
  {
   "cell_type": "markdown",
   "metadata": {},
   "source": [
    "## Шаг 2. Обучение моделей"
   ]
  },
  {
   "cell_type": "markdown",
   "metadata": {},
   "source": [
    "<a id='section3'></a>"
   ]
  },
  {
   "cell_type": "markdown",
   "metadata": {},
   "source": [
    "#### 1. Создание пайплайна"
   ]
  },
  {
   "cell_type": "markdown",
   "metadata": {},
   "source": [
    "В первую очередь выделим признак и целевой признак, разделим данные на тренировочную и тестовую выборки."
   ]
  },
  {
   "cell_type": "code",
   "execution_count": 5,
   "metadata": {},
   "outputs": [],
   "source": [
    "# Выделим признаки и целевой признак\n",
    "X = df['lemmas']\n",
    "y = df['toxic']\n",
    "\n",
    "random_state = 321\n",
    "# Разделим на выборки\n",
    "X_train, X_test, y_train, y_test = train_test_split(X, y, test_size=0.2, shuffle=True, random_state=random_state)"
   ]
  },
  {
   "cell_type": "markdown",
   "metadata": {},
   "source": [
    "Создадим метрику и разделим тренировочную выборку на фолды для выполнения кросс-валидации."
   ]
  },
  {
   "cell_type": "code",
   "execution_count": 6,
   "metadata": {},
   "outputs": [],
   "source": [
    "# Создадим метрику\n",
    "f1 = make_scorer(f1_score, greater_is_better=True)\n",
    "\n",
    "# Разделим на фолды\n",
    "kfs = list(StratifiedKFold(n_splits=5, shuffle=True, random_state=random_state).split(X_train, y_train))"
   ]
  },
  {
   "cell_type": "markdown",
   "metadata": {},
   "source": [
    "Теперь сформируем пайплайн. Так как признаков для обучения получится очень много, будем варьировать гиперпараметры только у модели логистической регрессии, так как она работает очень быстро на большом объеме данных, и у модели бустинга, так как она в принципе работает быстро. Деревянные модели попробуем \"из коробки\". "
   ]
  },
  {
   "cell_type": "code",
   "execution_count": 7,
   "metadata": {},
   "outputs": [],
   "source": [
    "# Сформируем пайплайн\n",
    "estimators = [('transformer', count_tf_idf),\n",
    "              ('model', LogisticRegression(class_weight='balanced'))\n",
    "             ]\n",
    "pipe = Pipeline(estimators)\n",
    "\n",
    "# Зададим варианты изменения гиперпараметров\n",
    "param_grid = [{'model': [LogisticRegression(class_weight='balanced')],\n",
    "               'model__C': [0.1, 1, 10, 100]\n",
    "              },\n",
    "              {'model': [DecisionTreeClassifier(random_state=random_state, class_weight='balanced')],\n",
    "              },\n",
    "              {'model': [RandomForestClassifier(random_state=random_state, class_weight='balanced')],               \n",
    "              },\n",
    "              {'model': [LGBMClassifier(class_weight='balanced')],\n",
    "               'model__num_leaves': range(6, 32, 5),\n",
    "               'model__learning_rate': [0.005, 0.01, 0.05, 0.2, 0.5],\n",
    "              }\n",
    "             ]\n",
    "# Опишем GridSearchCV\n",
    "grid = GridSearchCV(pipe,\n",
    "                    param_grid,                          \n",
    "                    scoring=f1,\n",
    "                    n_jobs=-1,\n",
    "                    cv=kfs,\n",
    "                    verbose=1\n",
    "                   )"
   ]
  },
  {
   "cell_type": "code",
   "execution_count": 8,
   "metadata": {},
   "outputs": [
    {
     "name": "stderr",
     "output_type": "stream",
     "text": [
      "[Parallel(n_jobs=-1)]: Using backend LokyBackend with 4 concurrent workers.\n"
     ]
    },
    {
     "name": "stdout",
     "output_type": "stream",
     "text": [
      "Fitting 5 folds for each of 36 candidates, totalling 180 fits\n"
     ]
    },
    {
     "name": "stderr",
     "output_type": "stream",
     "text": [
      "[Parallel(n_jobs=-1)]: Done  42 tasks      | elapsed: 21.2min\n",
      "[Parallel(n_jobs=-1)]: Done 180 out of 180 | elapsed: 48.1min finished\n"
     ]
    },
    {
     "name": "stdout",
     "output_type": "stream",
     "text": [
      "Wall time: 48min 18s\n"
     ]
    },
    {
     "data": {
      "text/plain": [
       "GridSearchCV(cv=[(array([     1,      2,      3, ..., 127653, 127654, 127655]),\n",
       "                  array([     0,     14,     18, ..., 127647, 127650, 127651])),\n",
       "                 (array([     0,      1,      3, ..., 127653, 127654, 127655]),\n",
       "                  array([     2,      4,      9, ..., 127638, 127642, 127645])),\n",
       "                 (array([     0,      1,      2, ..., 127651, 127652, 127653]),\n",
       "                  array([     3,      5,      8, ..., 127644, 127654, 127655])),\n",
       "                 (array([     0,      2,      3, ..., 127653, 127654, 127655]),\n",
       "                  array([     1,      7,     12, ..., 127632, 127646, 127648])),\n",
       "                 (a...\n",
       "                          'model__C': [0.1, 1, 10, 100]},\n",
       "                         {'model': [DecisionTreeClassifier(class_weight='balanced',\n",
       "                                                           random_state=321)]},\n",
       "                         {'model': [RandomForestClassifier(class_weight='balanced',\n",
       "                                                           random_state=321)]},\n",
       "                         {'model': [LGBMClassifier(class_weight='balanced')],\n",
       "                          'model__learning_rate': [0.005, 0.01, 0.05, 0.2, 0.5],\n",
       "                          'model__num_leaves': range(6, 32, 5)}],\n",
       "             scoring=make_scorer(f1_score), verbose=1)"
      ]
     },
     "execution_count": 8,
     "metadata": {},
     "output_type": "execute_result"
    }
   ],
   "source": [
    "%%time\n",
    "grid.fit(X_train, y_train)"
   ]
  },
  {
   "cell_type": "markdown",
   "metadata": {},
   "source": [
    "<a id='section4'></a>"
   ]
  },
  {
   "cell_type": "markdown",
   "metadata": {},
   "source": [
    "#### 2. Анализ результатов"
   ]
  },
  {
   "cell_type": "markdown",
   "metadata": {},
   "source": [
    "Визуализируем результаты расчетов."
   ]
  },
  {
   "cell_type": "code",
   "execution_count": 9,
   "metadata": {},
   "outputs": [
    {
     "data": {
      "image/png": "[encoded data removed]",
      "text/plain": [
       "<Figure size 1008x504 with 2 Axes>"
      ]
     },
     "metadata": {
      "needs_background": "light"
     },
     "output_type": "display_data"
    }
   ],
   "source": [
    "# Получим результаты расчетов\n",
    "results = pd.DataFrame(grid.cv_results_)\n",
    "\n",
    "# Напишем функцию получения имени модели\n",
    "def model_name(data):\n",
    "    return data['param_model'].__class__.__name__\n",
    "\n",
    "# Добавим в результаты столбец с названиями моделей\n",
    "results['model_name'] = results.apply(model_name, axis=1)\n",
    "\n",
    "# Сформируем лонг-форм датафрейм с результатами\n",
    "results_long = (pd.melt(results[['mean_test_score', 'mean_fit_time']]) \\\n",
    "                .join(pd.concat([results['model_name'], results['model_name']], ignore_index=True)))\n",
    "\n",
    "# Построим графики\n",
    "sns.catplot(data=results_long,\n",
    "            x='model_name',\n",
    "            y='value',\n",
    "            col='variable',\n",
    "            sharey=False,\n",
    "            kind='bar',\n",
    "            height=7\n",
    "           )\n",
    "plt.show()"
   ]
  },
  {
   "cell_type": "markdown",
   "metadata": {},
   "source": [
    "Представленный выше график, показывающий средние значения метрики на обучающей выборке и среднее время обучения, а так же разброс значений для моделей, в которых менялись гиперпараметры, позволяет сделать несколько выводов:\n",
    "- Модель логистической регрессии обучается очень быстро и имеет максимальные значения метрики f1 среди всех моделей\n",
    "- Модель градиентного бустинга обучается дольше, результат показывает хуже\n",
    "- Деревянные модели показывают наихудшие результаты, к тому же обучаются слишком долго (случайный лес обучается 15 минут, в то время как логистическая регрессия обучается примерно 10 секунд)"
   ]
  },
  {
   "cell_type": "markdown",
   "metadata": {},
   "source": [
    "Выберем лучшую модель с лучшими гиперпараметрами и узнаем точное значение метрики на тренировочной выборке."
   ]
  },
  {
   "cell_type": "code",
   "execution_count": 10,
   "metadata": {},
   "outputs": [
    {
     "data": {
      "text/plain": [
       "Pipeline(steps=[('transformer',\n",
       "                 TfidfVectorizer(stop_words={'a', 'about', 'above', 'after',\n",
       "                                             'again', 'against', 'ain', 'all',\n",
       "                                             'am', 'an', 'and', 'any', 'are',\n",
       "                                             'aren', \"aren't\", 'as', 'at', 'be',\n",
       "                                             'because', 'been', 'before',\n",
       "                                             'being', 'below', 'between',\n",
       "                                             'both', 'but', 'by', 'can',\n",
       "                                             'couldn', \"couldn't\", ...})),\n",
       "                ('model', LogisticRegression(C=10, class_weight='balanced'))])"
      ]
     },
     "execution_count": 10,
     "metadata": {},
     "output_type": "execute_result"
    }
   ],
   "source": [
    "# Получим лучшую модель\n",
    "pipe = grid.best_estimator_\n",
    "pipe"
   ]
  },
  {
   "cell_type": "code",
   "execution_count": 11,
   "metadata": {},
   "outputs": [
    {
     "name": "stdout",
     "output_type": "stream",
     "text": [
      "f1 лучшей модели на тренировочной выборке = 0.7643536839308194\n"
     ]
    }
   ],
   "source": [
    "print('f1 лучшей модели на тренировочной выборке =', (grid.best_score_ ))"
   ]
  },
  {
   "cell_type": "markdown",
   "metadata": {},
   "source": [
    "Проверим лучшую модель на тестовой выборке"
   ]
  },
  {
   "cell_type": "code",
   "execution_count": 12,
   "metadata": {},
   "outputs": [
    {
     "name": "stdout",
     "output_type": "stream",
     "text": [
      "f1 лучшей модели на тестовой выборке = 0.7657683486238532\n",
      "Wall time: 10.7 s\n"
     ]
    }
   ],
   "source": [
    "%%time\n",
    "pipe.fit(X_train, y_train)\n",
    "print('f1 лучшей модели на тестовой выборке =', f1_score(y_test, pipe.predict(X_test)))"
   ]
  },
  {
   "cell_type": "markdown",
   "metadata": {},
   "source": [
    "Задача выполнена, метрика f1 > 0.75."
   ]
  },
  {
   "cell_type": "markdown",
   "metadata": {},
   "source": [
    "Построим confusion matrix для предсказаний модели."
   ]
  },
  {
   "cell_type": "code",
   "execution_count": 13,
   "metadata": {},
   "outputs": [
    {
     "data": {
      "image/png": "[encoded data removed]",
      "text/plain": [
       "<Figure size 432x288 with 2 Axes>"
      ]
     },
     "metadata": {
      "needs_background": "light"
     },
     "output_type": "display_data"
    }
   ],
   "source": [
    "# Построим Confusion Matrix\n",
    "disp = plot_confusion_matrix(pipe, X_test, y_test,                             \n",
    "                             cmap=plt.cm.Blues\n",
    "                             )\n",
    "plt.show()"
   ]
  },
  {
   "cell_type": "markdown",
   "metadata": {},
   "source": [
    "<a id='section5'></a>"
   ]
  },
  {
   "cell_type": "markdown",
   "metadata": {},
   "source": [
    "#### 3. Проверка на адекватность"
   ]
  },
  {
   "cell_type": "markdown",
   "metadata": {},
   "source": [
    "Проверим модель на адекватность. Сравнивать f1 с константной моделью некорректно, так как в данных наблюдается сильный перевес в сторону нулевого класса, а f1 для модели, выдающей всегда ноль, посчитать нельзя. Поэтому построим кривую ROC и посмотрим, как сильно отличается эта кривая от кривой случайной модели."
   ]
  },
  {
   "cell_type": "code",
   "execution_count": 14,
   "metadata": {},
   "outputs": [
    {
     "data": {
      "image/png": "[encoded data removed]",
      "text/plain": [
       "<Figure size 432x288 with 1 Axes>"
      ]
     },
     "metadata": {},
     "output_type": "display_data"
    }
   ],
   "source": [
    "# Получим вероятности классов\n",
    "probabilities_test = pipe.predict_proba(X_test)\n",
    "# Выделим вероятности положительного класса\n",
    "probabilities_one_test = probabilities_test[:, 1]\n",
    "\n",
    "# Определим параметры ROC\n",
    "fpr, tpr, thresholds = roc_curve(y_test, probabilities_one_test)\n",
    "\n",
    "sns.set()\n",
    "plt.figure()\n",
    "\n",
    "# Построим ROC\n",
    "plt.plot(fpr, tpr)\n",
    "# ROC случайной модели\n",
    "plt.plot([0, 1], [0, 1], linestyle='--')\n",
    "\n",
    "# Установим границы осей\n",
    "plt.xlim(0,1)\n",
    "plt.ylim(0,1.1)\n",
    "# Подпишем оси\n",
    "plt.xlabel('False Positive Rate')\n",
    "plt.ylabel('True Positive Rate')\n",
    "# Добавим название\n",
    "plt.title('ROC-кривая')\n",
    "plt.show()"
   ]
  },
  {
   "cell_type": "markdown",
   "metadata": {},
   "source": [
    "Проверку на адекватность модель прошла, ROC кривая выглядит отлично."
   ]
  },
  {
   "cell_type": "markdown",
   "metadata": {},
   "source": [
    "<a id='section6'></a>"
   ]
  },
  {
   "cell_type": "markdown",
   "metadata": {},
   "source": [
    "#### 4. Предсказания на модели BERT"
   ]
  },
  {
   "cell_type": "markdown",
   "metadata": {},
   "source": [
    "Попробуем использовать модель BERT для наших данных и сравним её результаты с нашими."
   ]
  },
  {
   "cell_type": "code",
   "execution_count": 15,
   "metadata": {},
   "outputs": [],
   "source": [
    "# Токенизируем текст, используем предобученную модель\n",
    "tokenizer = transformers.BertTokenizer.from_pretrained('bert-base-multilingual-cased')\n",
    "tokenized = df['text'].apply(lambda x: tokenizer.encode(x[:512], add_special_tokens=True ))"
   ]
  },
  {
   "cell_type": "code",
   "execution_count": 16,
   "metadata": {},
   "outputs": [],
   "source": [
    "# Найдем максимальную длину массива\n",
    "max_len = len(max(tokenized, key=len))\n",
    "# Сделаем все массивы одной длины, заполнив недостающие значения нулями\n",
    "padded = np.array([i + [0]*(max_len - len(i)) for i in tokenized.values])\n",
    "# Сделаем маску для ненулевых значений\n",
    "attention_mask = np.where(padded != 0, 1, 0)"
   ]
  },
  {
   "cell_type": "code",
   "execution_count": 17,
   "metadata": {},
   "outputs": [],
   "source": [
    "# Загрузим предобученную модель\n",
    "model = transformers.BertModel.from_pretrained('bert-base-multilingual-cased')"
   ]
  },
  {
   "cell_type": "markdown",
   "metadata": {},
   "source": [
    "Вычисления на видеокарте идут значительно быстрее, поэтому поместим модель и матрицы в память видеокарты."
   ]
  },
  {
   "cell_type": "code",
   "execution_count": 18,
   "metadata": {},
   "outputs": [],
   "source": [
    "model.to('cuda')\n",
    "padded = torch.LongTensor(padded).to('cuda')\n",
    "attention_mask = torch.LongTensor(attention_mask).to('cuda')"
   ]
  },
  {
   "cell_type": "markdown",
   "metadata": {},
   "source": [
    "Эмбеддинги будем делать на батчах небольшой длины, так как в видеопамять всё не поместится"
   ]
  },
  {
   "cell_type": "code",
   "execution_count": 19,
   "metadata": {},
   "outputs": [
    {
     "data": {
      "application/vnd.jupyter.widget-view+json": {
       "model_id": "010e32f2715c4b4c96980e573c49bf31",
       "version_major": 2,
       "version_minor": 0
      },
      "text/plain": [
       "HBox(children=(HTML(value=''), FloatProgress(value=0.0, max=7979.0), HTML(value='')))"
      ]
     },
     "metadata": {},
     "output_type": "display_data"
    },
    {
     "name": "stdout",
     "output_type": "stream",
     "text": [
      "\n"
     ]
    }
   ],
   "source": [
    "# Укажем размер батчка\n",
    "batch_size = 20\n",
    "embeddings = []\n",
    "# Сформируем эмбеддинги\n",
    "for i in notebook.tqdm(range((padded.shape[0] // batch_size)+1)):\n",
    "    batch =(padded[batch_size*i:batch_size*(i+1)])\n",
    "    attention_mask_batch = (attention_mask[batch_size*i:batch_size*(i+1)])\n",
    "\n",
    "    with torch.no_grad():\n",
    "        batch_embeddings = model(batch, attention_mask=attention_mask_batch)\n",
    "    embeddings.append(batch_embeddings[0][:,0,:].to('cpu').numpy())"
   ]
  },
  {
   "cell_type": "markdown",
   "metadata": {},
   "source": [
    "Теперь объединим все эмбеддинги в единый массив признаков, поделим выборку на тренировочную и тестовую, обучим на тренировочной выборке лучшую модель логрегрессии."
   ]
  },
  {
   "cell_type": "code",
   "execution_count": 21,
   "metadata": {},
   "outputs": [
    {
     "name": "stdout",
     "output_type": "stream",
     "text": [
      "f1 модели на тестовой выборке = 0.5476802798066043\n"
     ]
    }
   ],
   "source": [
    "# Выделим признаки\n",
    "X = np.concatenate(embeddings)\n",
    "y = df['toxic']\n",
    "# Поделим выборку\n",
    "X_train, X_test, y_train, y_test = train_test_split(X, y, test_size=0.2)\n",
    "\n",
    "# Обучим модель\n",
    "clf = LogisticRegression(C=10, class_weight='balanced')\n",
    "clf.fit(X_train, y_train)\n",
    "print('f1 модели на тестовой выборке =', f1_score(y_test, clf.predict(X_test)))"
   ]
  },
  {
   "cell_type": "markdown",
   "metadata": {},
   "source": [
    "## Вывод\n",
    "\n"
   ]
  },
  {
   "cell_type": "markdown",
   "metadata": {},
   "source": [
    "В ходе работы были изучены два различных подхода к обработке текста: получение признаков с помощью выделения TF-IDF на лемматизированном тексте и получение признаков с помощью предобученной модели нейронной сети BERT.\n",
    "- Первый подход позволил добиться значения метрики f1 равной 0.766. Лучшая модель, использованная для этого - модель логистической регрессии с настроенным коэффициентом регуляризации; данная модель обучается очень быстро, а результат значительно лучше, чем у деревянных моделей. Модель бустинга обучается несколько дольше, чем модель логистической регрессии, а результат показывает ниже.\n",
    "- Второй подход не позволил добиться того же результата, что и первый. f1 составила 0.548. При этом создание эмбеддингов длилось порядка 9 часов.\n",
    "\n",
    "Таким образом TF-IDF в сочетании с логистической регрессией позволяет очень быстро и качественно производить классификацию текста."
   ]
  }
 ],
 "metadata": {
  "kernelspec": {
   "display_name": "Python 3",
   "language": "python",
   "name": "python3"
  },
  "language_info": {
   "codemirror_mode": {
    "name": "ipython",
    "version": 3
   },
   "file_extension": ".py",
   "mimetype": "text/x-python",
   "name": "python",
   "nbconvert_exporter": "python",
   "pygments_lexer": "ipython3",
   "version": "3.8.6"
  }
 },
 "nbformat": 4,
 "nbformat_minor": 4
}
